{
 "cells": [
  {
   "cell_type": "markdown",
   "metadata": {},
   "source": [
    "## Example workflow to register multi-view light sheet data\n",
    "\n",
    "Notes:\n",
    "- install napari-stitcher for visualization functionality\n",
    "- registration: so far only translation registration is performed\n",
    "- fusion: only vanilla linear blending currently supported\n",
    "- generally\n",
    "  - this is a first hacky workflow that will change in API and become simplified\n",
    "  - documentation will follow"
   ]
  },
  {
   "cell_type": "code",
   "execution_count": null,
   "metadata": {},
   "outputs": [],
   "source": [
    "# imports\n",
    "\n",
    "import os\n",
    "import numpy as np\n",
    "from pathlib import Path\n",
    "from tqdm import tqdm\n",
    "import dask.diagnostics, tempfile\n",
    "\n",
    "from multiview_stitcher import msi_utils, spatial_image_utils\n",
    "\n",
    "%matplotlib notebook\n",
    "\n",
    "# the package napari-stitcher is required for visualization with napari\n",
    "VISUALIZE_USING_NAPARI = False\n",
    "\n",
    "if VISUALIZE_USING_NAPARI:\n",
    "    import napari\n",
    "    from napari_stitcher import viewer_utils"
   ]
  },
  {
   "cell_type": "code",
   "execution_count": null,
   "metadata": {},
   "outputs": [],
   "source": [
    "# Start a dask cluster\n",
    "\n",
    "from distributed import Client, LocalCluster\n",
    "\n",
    "lc = LocalCluster(n_workers=1, threads_per_worker=None)\n",
    "client = Client(lc)\n",
    "client\n"
   ]
  },
  {
   "cell_type": "markdown",
   "metadata": {},
   "source": [
    "## Specify input data"
   ]
  },
  {
   "cell_type": "code",
   "execution_count": null,
   "metadata": {},
   "outputs": [],
   "source": [
    "base_dir = '../image-datasets/multi-view/old_mDSLM_classical_4_angles_10x_0.3NA_detection'\n",
    "filenames = [(os.path.join(base_dir, f)) for f in os.listdir(base_dir) if f.endswith('.tif')]\n",
    "\n",
    "# sort angles\n",
    "filenames = [Path(fn) for fn in sorted(filenames)]\n",
    "print('Files:')\n",
    "print('\\n'.join([fn.name for fn in filenames]))\n"
   ]
  },
  {
   "cell_type": "markdown",
   "metadata": {},
   "source": [
    "## Convert input data to OME-Zarr"
   ]
  },
  {
   "cell_type": "code",
   "execution_count": null,
   "metadata": {},
   "outputs": [],
   "source": [
    "from multiview_stitcher import io\n",
    "\n",
    "overwrite = False\n",
    "\n",
    "msims = []\n",
    "for filename in tqdm(filenames):\n",
    "    store_path = filename.with_suffix('.zarr')\n",
    "    if not os.path.exists(store_path) or overwrite:\n",
    "        sim = io.read_tiff_into_spatial_xarray(\n",
    "                        filename,\n",
    "                        scale={'z': 2.58, 'y': 0.645, 'x': 0.645})\n",
    "        msim = msi_utils.get_msim_from_sim(sim, scale_factors=None) # choose scale factors automatically\n",
    "        msim.to_zarr(store_path)\n",
    "    msim = msi_utils.multiscale_spatial_image_from_zarr(Path(store_path))\n",
    "    msims.append(msim)\n",
    "\n",
    "# alternative\n",
    "# msims = []\n",
    "# for filename in tqdm(filenames):\n",
    "#     msim = msi_utils.get_store_decorator(\n",
    "#         filename.with_suffix('.zarr'),\n",
    "#         store_overwrite=False)(\n",
    "#             msi_utils.get_msim_from_sim)(\n",
    "#                 io.read_tiff_into_spatial_xarray(\n",
    "#                     filename,\n",
    "#                     scale={'z': 2.58, 'y': 0.645, 'x': 0.645}\n",
    "#                 ))\n",
    "#     msims.append(msim)\n"
   ]
  },
  {
   "cell_type": "markdown",
   "metadata": {},
   "source": [
    "## Set estimate of initial transformations"
   ]
  },
  {
   "cell_type": "code",
   "execution_count": null,
   "metadata": {},
   "outputs": [],
   "source": [
    "from multiview_stitcher import param_utils\n",
    "\n",
    "for imsim, msim in enumerate(msims):\n",
    "\n",
    "    # 90 degree rotation around x axis\n",
    "    affine = param_utils.affine_from_rotation(\n",
    "        -np.pi/2 * imsim,\n",
    "        point=spatial_image_utils.get_center_of_sim(msims[imsim]['scale0/image'], transform_key=None),\n",
    "        direction=[0,0,1],\n",
    "        )\n",
    "\n",
    "    msi_utils.set_affine_transform(\n",
    "        msim,\n",
    "        affine[None], # one tp\n",
    "        transform_key='affine_manual',\n",
    "    )\n"
   ]
  },
  {
   "cell_type": "markdown",
   "metadata": {},
   "source": [
    "### Visualize pre-registered views"
   ]
  },
  {
   "cell_type": "code",
   "execution_count": null,
   "metadata": {},
   "outputs": [],
   "source": [
    "if VISUALIZE_USING_NAPARI:\n",
    "\n",
    "    viewer = napari.Viewer(ndisplay=3)\n",
    "    lds = viewer_utils.create_image_layer_tuples_from_msims(\n",
    "        msims, transform_key='affine_manual', n_colors=4, contrast_limits=[0, 1000])\n",
    "    viewer_utils.add_image_layer_tuples_to_viewer(viewer, lds)\n",
    "    viewer.reset_view()\n",
    "    "
   ]
  },
  {
   "cell_type": "markdown",
   "metadata": {},
   "source": [
    "### Register views"
   ]
  },
  {
   "cell_type": "code",
   "execution_count": null,
   "metadata": {},
   "outputs": [],
   "source": [
    "# import skimage.registration\n",
    "from multiview_stitcher import registration\n",
    "\n",
    "with dask.diagnostics.ProgressBar():\n",
    "\n",
    "    params = registration.register(\n",
    "        # [msi_utils.get_sim_from_msim(msim) for msim in msims],\n",
    "        msims,\n",
    "        registration_binning={'z': 2, 'y': 8, 'x': 8},\n",
    "        reg_channel_index=0,\n",
    "        transform_key='affine_manual',\n",
    "    )\n",
    "    \n",
    "for msim, param in zip(msims, params):\n",
    "    msi_utils.set_affine_transform(msim, param, transform_key='affine_registered', base_transform_key='affine_manual')"
   ]
  },
  {
   "cell_type": "markdown",
   "metadata": {},
   "source": [
    "### Visualize registration"
   ]
  },
  {
   "cell_type": "code",
   "execution_count": null,
   "metadata": {},
   "outputs": [],
   "source": [
    "if VISUALIZE_USING_NAPARI:\n",
    "    \n",
    "    viewer = napari.Viewer(ndisplay=3)\n",
    "\n",
    "    lds = viewer_utils.create_image_layer_tuples_from_msims(\n",
    "        msims, transform_key='affine_manual', n_colors=4,\n",
    "        name_prefix='pre-registered view',\n",
    "        contrast_limits=[0, 1000],\n",
    "        )\n",
    "    mlayers = viewer_utils.add_image_layer_tuples_to_viewer(viewer, lds, do_link_layers=True)\n",
    "\n",
    "    lds = viewer_utils.create_image_layer_tuples_from_msims(\n",
    "        msims, transform_key='affine_registered', n_colors=4,\n",
    "        name_prefix='registered view',\n",
    "        contrast_limits=[0, 1000],\n",
    "        )\n",
    "    rlayers = viewer_utils.add_image_layer_tuples_to_viewer(viewer, lds, do_link_layers=True)"
   ]
  },
  {
   "cell_type": "markdown",
   "metadata": {},
   "source": [
    "### Fuse views (linear blending)"
   ]
  },
  {
   "cell_type": "code",
   "execution_count": null,
   "metadata": {},
   "outputs": [],
   "source": [
    "from multiview_stitcher import fusion\n",
    "import dask.array as da\n",
    "\n",
    "sims = [msi_utils.get_sim_from_msim(msim) for msim in msims]\n",
    "\n",
    "tmpdir = tempfile.TemporaryDirectory()\n",
    "\n",
    "import importlib\n",
    "fusion = importlib.reload(fusion)\n",
    "\n",
    "fused = fusion.fuse(\n",
    "    sims[:],\n",
    "    transform_key='affine_registered',\n",
    "    output_spacing={dim: 10 for dim in ['z', 'y', 'x']},\n",
    "    output_chunksize=128,\n",
    "    )\n",
    "\n",
    "print('Fusing views...')\n",
    "with dask.diagnostics.ProgressBar():\n",
    "\n",
    "    fused.data = da.to_zarr(\n",
    "        fused.data,\n",
    "        os.path.join(tmpdir.name, 'fused_sim.zarr'),\n",
    "        overwrite=True, return_stored=True, compute=True)\n",
    "\n",
    "print('Creating multiscale output OME-Zarr...')\n",
    "with dask.diagnostics.ProgressBar():\n",
    "\n",
    "    mfused = msi_utils.get_msim_from_sim(fused, scale_factors=None)\n",
    "\n",
    "    fused_path = os.path.join(tmpdir.name, 'fused.zarr')\n",
    "    mfused.to_zarr(fused_path)\n",
    "    \n",
    "mfused = msi_utils.multiscale_spatial_image_from_zarr(fused_path)"
   ]
  },
  {
   "cell_type": "markdown",
   "metadata": {},
   "source": [
    "### Visualize fusion in napari"
   ]
  },
  {
   "cell_type": "code",
   "execution_count": null,
   "metadata": {},
   "outputs": [],
   "source": [
    "if VISUALIZE_USING_NAPARI:\n",
    "\n",
    "    viewer = napari.Viewer(ndisplay=3)\n",
    "\n",
    "    lds = viewer_utils.create_image_layer_tuples_from_msims(\n",
    "        msims, transform_key='affine_registered', n_colors=4,\n",
    "        name_prefix='registered view',\n",
    "        contrast_limits=[0, 1000]\n",
    "        )\n",
    "\n",
    "    rlayers = viewer_utils.add_image_layer_tuples_to_viewer(\n",
    "        viewer, lds, do_link_layers=False)\n",
    "\n",
    "    lds = viewer_utils.create_image_layer_tuples_from_msim(\n",
    "        mfused,\n",
    "        transform_key='affine_registered',\n",
    "        name_prefix='fused',\n",
    "        contrast_limits=[0, 1000])\n",
    "\n",
    "    viewer_utils.add_image_layer_tuples_to_viewer(viewer, lds)"
   ]
  },
  {
   "cell_type": "code",
   "execution_count": null,
   "metadata": {},
   "outputs": [],
   "source": [
    "# stream presaved fused image to tif\n",
    "\n",
    "from multiview_stitcher import io\n",
    "\n",
    "with dask.diagnostics.ProgressBar():\n",
    "    io.save_sim_as_tif('fused.tif', msi_utils.get_sim_from_msim(mfused))"
   ]
  }
 ],
 "metadata": {
  "kernelspec": {
   "display_name": "Python 3 (ipykernel)",
   "language": "python",
   "name": "python3"
  },
  "language_info": {
   "codemirror_mode": {
    "name": "ipython",
    "version": 3
   },
   "file_extension": ".py",
   "mimetype": "text/x-python",
   "name": "python",
   "nbconvert_exporter": "python",
   "pygments_lexer": "ipython3",
   "version": "3.10.12"
  }
 },
 "nbformat": 4,
 "nbformat_minor": 4
}
