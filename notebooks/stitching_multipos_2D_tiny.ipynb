{
 "cells": [
  {
   "cell_type": "markdown",
   "metadata": {},
   "source": [
    "# Example stitching workflow\n",
    "\n",
    "Using a small example dataset with two positions."
   ]
  },
  {
   "cell_type": "code",
   "execution_count": null,
   "metadata": {},
   "outputs": [],
   "source": [
    "VISUALIZE_USING_NAPARI = False"
   ]
  },
  {
   "cell_type": "code",
   "execution_count": null,
   "metadata": {},
   "outputs": [],
   "source": [
    "import os, tempfile\n",
    "import numpy as np\n",
    "\n",
    "from multiview_stitcher import sample_data, msi_utils\n",
    "\n",
    "import dask.diagnostics"
   ]
  },
  {
   "cell_type": "code",
   "execution_count": null,
   "metadata": {},
   "outputs": [],
   "source": [
    "if VISUALIZE_USING_NAPARI:\n",
    "    from napari_stitcher import viewer_utils\n",
    "    import napari\n",
    "    viewer = napari.Viewer()"
   ]
  },
  {
   "cell_type": "code",
   "execution_count": null,
   "metadata": {},
   "outputs": [],
   "source": [
    "# Load dataset from file\n",
    "\n",
    "from multiview_stitcher import io\n",
    "\n",
    "filename = '../test-datasets/mosaic_test.czi'\n",
    "sims = io.read_mosaic_image_into_list_of_spatial_xarrays(filename)\n",
    "msims = [msi_utils.get_msim_from_sim(sim, scale_factors=[]) for sim in sims]\n",
    "print(f\"Loaded {len(msims)} positions from {filename}. Transform key is {io.METADATA_TRANSFORM_KEY}.\")\n",
    "\n",
    "# Test with generated dataset\n",
    "\n",
    "# sims = sample_data.generate_tiled_dataset(\n",
    "#     ndim=2,\n",
    "#     N_t=1,\n",
    "#     N_c=1,\n",
    "#     tile_size=1000,\n",
    "#     tiles_x=5,\n",
    "#     tiles_y=5,\n",
    "#     zoom=4,\n",
    "#     overlap=30,\n",
    "#     drift_scale=0,\n",
    "#     shift_scale=15,\n",
    "# )"
   ]
  },
  {
   "cell_type": "code",
   "execution_count": null,
   "metadata": {},
   "outputs": [],
   "source": [
    "if VISUALIZE_USING_NAPARI:\n",
    "    \n",
    "    layer_tuples = viewer_utils.create_image_layer_tuples_from_msims(\n",
    "        msims, n_colors=3, transform_key='affine_metadata')\n",
    "    viewer_utils.add_image_layer_tuples_to_viewer(viewer, layer_tuples)\n",
    "    viewer.reset_view()"
   ]
  },
  {
   "cell_type": "code",
   "execution_count": null,
   "metadata": {},
   "outputs": [],
   "source": [
    "from multiview_stitcher import registration, fusion\n",
    "\n",
    "import importlib\n",
    "registration = importlib.reload(registration)\n",
    "\n",
    "print('Registering...')\n",
    "with dask.diagnostics.ProgressBar():\n",
    "    params = registration.register(\n",
    "        msims, transform_key='affine_metadata', reg_channel_index=0)\n",
    "    \n",
    "for msim, param in zip(msims, params):\n",
    "    msi_utils.set_affine_transform(msim, param, transform_key='affine_registered', base_transform_key='affine_metadata')\n",
    "\n",
    "print('Fusing...')\n",
    "with dask.diagnostics.ProgressBar():\n",
    "    fused = fusion.fuse(\n",
    "        [msi_utils.get_sim_from_msim(msim) for msim in msims],\n",
    "        transform_key='affine_registered')\n",
    "\n",
    "mfused = msi_utils.get_msim_from_sim(fused, scale_factors=[])"
   ]
  },
  {
   "cell_type": "code",
   "execution_count": null,
   "metadata": {},
   "outputs": [],
   "source": [
    "if VISUALIZE_USING_NAPARI:\n",
    "    \n",
    "    viewer = napari.Viewer(ndisplay=2)\n",
    "\n",
    "    lds = viewer_utils.create_image_layer_tuples_from_msims(\n",
    "        msims, transform_key='affine_registered', n_colors=4,\n",
    "        name_prefix='pre-registered view')\n",
    "    mlayers = viewer_utils.add_image_layer_tuples_to_viewer(viewer, lds, do_link_layers=True)\n",
    "\n",
    "    lds = viewer_utils.create_image_layer_tuples_from_msim(\n",
    "        mfused, transform_key='affine_registered',\n",
    "        name_prefix='registered view')\n",
    "    rlayers = viewer_utils.add_image_layer_tuples_to_viewer(viewer, lds, do_link_layers=True)"
   ]
  },
  {
   "cell_type": "code",
   "execution_count": null,
   "metadata": {},
   "outputs": [],
   "source": [
    "with dask.diagnostics.ProgressBar():\n",
    "    io.save_sim_as_tif('fused.tif', fused)"
   ]
  }
 ],
 "metadata": {
  "kernelspec": {
   "display_name": "napaconda",
   "language": "python",
   "name": "python3"
  },
  "language_info": {
   "codemirror_mode": {
    "name": "ipython",
    "version": 3
   },
   "file_extension": ".py",
   "mimetype": "text/x-python",
   "name": "python",
   "nbconvert_exporter": "python",
   "pygments_lexer": "ipython3",
   "version": "3.10.12"
  },
  "orig_nbformat": 4
 },
 "nbformat": 4,
 "nbformat_minor": 2
}
