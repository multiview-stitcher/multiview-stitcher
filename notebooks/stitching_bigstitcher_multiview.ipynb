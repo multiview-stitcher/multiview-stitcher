{
 "cells": [
  {
   "cell_type": "markdown",
   "metadata": {},
   "source": [
    "## Example workflow to register multi-view light sheet data\n",
    "\n",
    "This notebook uses the [multiview example dataset](https://drive.google.com/file/d/1VFT2APVPItBCyzrQ7dPWBNILyNh6yDKB/view?usp=sharing) provided in the [BigStitcher-Spark github repo](https://github.com/JaneliaSciComp/BigStitcher-Spark).\n",
    "\n",
    "Notes:\n",
    "- registration: this notebook uses translation and affine registration\n",
    "- fusion: currently linear blending and content-based fusion are supported\n",
    "- visualization:\n",
    "  - neuroglancer (no installation required)\n",
    "  - (optional) install [napari-stitcher](https://multiview-stitcher.github.io/napari-stitcher/main/)"
   ]
  },
  {
   "cell_type": "code",
   "execution_count": null,
   "metadata": {},
   "outputs": [],
   "source": [
    "import os\n",
    "import numpy as np\n",
    "from pathlib import Path\n",
    "from tqdm import tqdm\n",
    "import dask.diagnostics, tempfile\n",
    "\n",
    "from multiview_stitcher import msi_utils, spatial_image_utils\n",
    "\n",
    "%matplotlib notebook\n",
    "\n",
    "# the package napari-stitcher is required for visualization with napari\n",
    "VISUALIZE_USING_NAPARI = False\n",
    "\n",
    "if VISUALIZE_USING_NAPARI:\n",
    "    import napari\n",
    "    from napari_stitcher import viewer_utils"
   ]
  },
  {
   "cell_type": "markdown",
   "metadata": {},
   "source": [
    "## Specify input data"
   ]
  },
  {
   "cell_type": "code",
   "execution_count": null,
   "metadata": {},
   "outputs": [],
   "source": [
    "# Download the example dataset\n",
    "# https://drive.google.com/file/d/1VFT2APVPItBCyzrQ7dPWBNILyNh6yDKB/view?usp=sharing\n",
    "# and indicate the extracted paths below\n",
    "\n",
    "base_dir = Path('../image-datasets/bigstitcher/IP_TIFF')\n",
    "filenames = list(base_dir.glob('*TL18*.tif'))\n",
    "\n",
    "# extract angle from e.g. spim_TL18_Angle135.tif\n",
    "angles = [int(f.stem.split('Angle')[1].split('.')[0]) for f in filenames]\n",
    "\n",
    "# sort filenames by angle\n",
    "filenames = [filenames[i] for i in np.argsort(angles)]\n",
    "angles = np.sort(angles)\n",
    "\n",
    "if not len(filenames):\n",
    "    raise ValueError('No files found. Please download the example dataset and set the correct path.')\n",
    "\n",
    "print('Files:', [f.name for f in filenames])\n",
    "print('Extracted angles:', angles)\n"
   ]
  },
  {
   "cell_type": "markdown",
   "metadata": {},
   "source": [
    "## Convert input data to OME-Zarr\n",
    "\n",
    "First the convert the input views to OME-Zarr format. We indicate the scale stored in the imagej metadata (TODO: confirm)."
   ]
  },
  {
   "cell_type": "code",
   "execution_count": null,
   "metadata": {},
   "outputs": [],
   "source": [
    "from multiview_stitcher import io, ngff_utils\n",
    "from multiview_stitcher import spatial_image_utils as si_utils\n",
    "\n",
    "# read input tiff files into spatial images\n",
    "sims = [\n",
    "    io.read_tiff_into_spatial_xarray(\n",
    "        filename,\n",
    "        dims=('z', 'y', 'x'),\n",
    "        scale={'z': 2., 'y': 0.7310781, 'x': 0.7310781})\n",
    "    for filename in filenames\n",
    "]\n",
    "\n",
    "# write tiles to ome zarr format\n",
    "for sim, filename in zip(sims, filenames):\n",
    "    sim = ngff_utils.write_sim_to_ome_zarr(\n",
    "        sim,\n",
    "        filename.with_suffix('.ome.zarr'),\n",
    "        overwrite=True\n",
    "    )"
   ]
  },
  {
   "cell_type": "markdown",
   "metadata": {},
   "source": [
    "## Load the input data from OME-Zarr\n",
    "\n",
    "`ngff_utils.read_sim_from_ome_zarr` will only reference the data on disk, so the data will not be loaded into memory."
   ]
  },
  {
   "cell_type": "markdown",
   "metadata": {},
   "source": [
    "### Registration\n",
    "\n",
    "For registration, we load the spatial images at resolution level 1 (one lower than 0)."
   ]
  },
  {
   "cell_type": "code",
   "execution_count": null,
   "metadata": {},
   "outputs": [],
   "source": [
    "# load spatial images for registration\n",
    "sims_reg = [\n",
    "    ngff_utils.read_sim_from_ome_zarr(\n",
    "        filename.with_suffix('.ome.zarr'),\n",
    "        resolution_level=1,\n",
    "    ) for filename in filenames]\n",
    "\n",
    "# the next two lines can be executed if registration should only be done on a\n",
    "# subset of the views in which only the beads are visible\n",
    "# otherwise if commented out, the registration will be done on the full field of view\n",
    "for iview, sim in enumerate(sims_reg):\n",
    "    sims_reg[iview] = si_utils.sim_sel_coords(sims_reg[iview], {'x': slice(800, 1100)})\n",
    "\n",
    "# convert spatial images to multiscale spatial images which the registration step expects\n",
    "msims_reg = [msi_utils.get_msim_from_sim(\n",
    "    sim, scale_factors=None)\n",
    "    for sim in sims_reg]"
   ]
  },
  {
   "cell_type": "markdown",
   "metadata": {},
   "source": [
    "### Fusion\n",
    "\n",
    "For fusion, we load the full resolution data at resolution level 0. This is the data that will be used for the final fusion step."
   ]
  },
  {
   "cell_type": "code",
   "execution_count": null,
   "metadata": {},
   "outputs": [],
   "source": [
    "sims_fus = [\n",
    "    ngff_utils.read_sim_from_ome_zarr(\n",
    "        filename.with_suffix('.ome.zarr'),\n",
    "        resolution_level=0,\n",
    "    ) for filename in filenames]\n",
    "\n",
    "msims_fus = [msi_utils.get_msim_from_sim(\n",
    "    sim, scale_factors=None)\n",
    "    for sim in sims_fus]"
   ]
  },
  {
   "cell_type": "markdown",
   "metadata": {},
   "source": [
    "## Set estimate of initial transformations\n",
    "\n",
    "We set the initial transformations estimated from the angles indicated in the filenames. We're assuming they represent a rotation around the center of the views.\n",
    "\n",
    "These transformations will be refined during the registration process."
   ]
  },
  {
   "cell_type": "code",
   "execution_count": null,
   "metadata": {},
   "outputs": [],
   "source": [
    "from multiview_stitcher import param_utils\n",
    "\n",
    "for iview in range(len(angles)):\n",
    "\n",
    "    # define rotation transformation around x axis\n",
    "    affine = param_utils.affine_from_rotation(\n",
    "        angles[iview] / 180 * np.pi,\n",
    "        point=spatial_image_utils.get_center_of_sim(msims_reg[iview]['scale0/image'], transform_key=None),\n",
    "        direction=[0,0,1],\n",
    "        )\n",
    "    \n",
    "    # convert matrix to xarray.DataArray with labeled axes\n",
    "    xaffine = param_utils.affine_to_xaffine(affine)\n",
    "\n",
    "    # set the transformations on the image objects used for registration and fusion\n",
    "    msi_utils.set_affine_transform(\n",
    "        msims_reg[iview],\n",
    "        affine[None], # one tp\n",
    "        transform_key='affine_manual',\n",
    "    )\n"
   ]
  },
  {
   "cell_type": "markdown",
   "metadata": {},
   "source": [
    "### Visualize pre-registered views"
   ]
  },
  {
   "cell_type": "code",
   "execution_count": null,
   "metadata": {},
   "outputs": [],
   "source": [
    "if VISUALIZE_USING_NAPARI:\n",
    "\n",
    "    viewer = napari.Viewer(ndisplay=3)\n",
    "    lds = viewer_utils.create_image_layer_tuples_from_msims(\n",
    "        msims_reg, transform_key='affine_manual', n_colors=4, contrast_limits=[0, 10])\n",
    "    viewer_utils.add_image_layer_tuples_to_viewer(viewer, lds)\n",
    "    viewer.reset_view()"
   ]
  },
  {
   "cell_type": "markdown",
   "metadata": {},
   "source": [
    "### Register views\n",
    "\n",
    "First we apply a translation registration on the (pre-rotated) views to perform a first coarse alignment."
   ]
  },
  {
   "cell_type": "code",
   "execution_count": null,
   "metadata": {},
   "outputs": [],
   "source": [
    "from multiview_stitcher import registration\n",
    "\n",
    "with dask.diagnostics.ProgressBar():\n",
    "\n",
    "    # phase shift registration\n",
    "    params = registration.register(\n",
    "        msims_reg,\n",
    "        # registration_binning={'z': 2, 'y': 8, 'x': 8},\n",
    "        registration_binning={'z': 1, 'y': 4, 'x': 4},\n",
    "        reg_channel_index=0,\n",
    "        transform_key='affine_manual',\n",
    "        new_transform_key='translation_registered',\n",
    "        pre_registration_pruning_method=None,\n",
    "        groupwise_resolution_kwargs={\n",
    "            'transform': 'translation',\n",
    "        },\n",
    "        n_parallel_pairwise_regs=None, # limit this to e.g. 2 to reduce memory usage\n",
    "    )\n",
    "\n",
    "    # # alternatively registration using ANTsPy\n",
    "    # params = registration.register(\n",
    "    #     msims_reg,\n",
    "    #     registration_binning={'z': 2, 'y': 8, 'x': 8},\n",
    "    #     reg_channel_index=0,\n",
    "    #     transform_key='affine_manual',\n",
    "    #     new_transform_key='translation_registered',\n",
    "    #     pre_registration_pruning_method=None,\n",
    "    #     pairwise_reg_func=registration.registration_ANTsPy,\n",
    "    #     pairwise_reg_func_kwargs={\n",
    "    #         'transform_types': ['Translation'],\n",
    "    #     },\n",
    "    #     groupwise_resolution_kwargs={\n",
    "    #         'transform': 'translation',\n",
    "    #     }\n",
    "    # )\n",
    "    "
   ]
  },
  {
   "cell_type": "markdown",
   "metadata": {},
   "source": [
    "### Visualize registration (translation)"
   ]
  },
  {
   "cell_type": "code",
   "execution_count": null,
   "metadata": {},
   "outputs": [],
   "source": [
    "if VISUALIZE_USING_NAPARI:\n",
    "    \n",
    "    viewer = napari.Viewer(ndisplay=3)\n",
    "\n",
    "    lds = viewer_utils.create_image_layer_tuples_from_msims(\n",
    "        msims_reg,\n",
    "        transform_key='affine_registered',\n",
    "        n_colors=100,\n",
    "        name_prefix='registered view',\n",
    "        contrast_limits=[0, 10],\n",
    "        positional_cmaps=True,\n",
    "        )\n",
    "    \n",
    "    rlayers = viewer_utils.add_image_layer_tuples_to_viewer(viewer, lds, do_link_layers=False)"
   ]
  },
  {
   "cell_type": "markdown",
   "metadata": {},
   "source": [
    "## Affine registration\n",
    "\n",
    "In this step we refine the transformations using an affine registration."
   ]
  },
  {
   "cell_type": "code",
   "execution_count": null,
   "metadata": {},
   "outputs": [],
   "source": [
    "input_transform_key = 'translation_registered'\n",
    "output_transform_key = 'affine_registered'\n",
    "\n",
    "# Number of iterations for the registration\n",
    "N_iter = 1\n",
    "for iteration in range(N_iter):\n",
    "\n",
    "    if iteration == N_iter - 1:\n",
    "        iter_output_transform_key = output_transform_key\n",
    "    else:\n",
    "        iter_output_transform_key = f'{output_transform_key}_iter{iteration}'\n",
    "\n",
    "    # rigid registration\n",
    "    params = registration.register(\n",
    "        msims_reg,\n",
    "        # registration_binning={'z': 2, 'y': 8, 'x': 8},\n",
    "        registration_binning={'z': 1, 'y': 4, 'x': 4},\n",
    "        reg_channel_index=0,\n",
    "        transform_key=input_transform_key,\n",
    "        new_transform_key=iter_output_transform_key,\n",
    "        pre_registration_pruning_method=None,\n",
    "        pairwise_reg_func=registration.registration_ANTsPy,\n",
    "        pairwise_reg_func_kwargs={\n",
    "            # 'transform_types': ['Rigid'],\n",
    "            'transform_types': ['Rigid', 'Affine'],\n",
    "        },\n",
    "        groupwise_resolution_kwargs={\n",
    "            # 'transform': 'rigid',\n",
    "            'transform': 'affine',\n",
    "        },\n",
    "        n_parallel_pairwise_regs=None, # limit this to e.g. 2 to reduce memory usage\n",
    "    )\n",
    "\n",
    "    input_transform_key = iter_output_transform_key"
   ]
  },
  {
   "cell_type": "markdown",
   "metadata": {},
   "source": [
    "### Visualize registration"
   ]
  },
  {
   "cell_type": "code",
   "execution_count": null,
   "metadata": {},
   "outputs": [],
   "source": [
    "if VISUALIZE_USING_NAPARI:\n",
    "    \n",
    "    viewer = napari.Viewer(ndisplay=3)\n",
    "\n",
    "    lds = viewer_utils.create_image_layer_tuples_from_msims(\n",
    "        msims_reg,\n",
    "        transform_key='affine_registered',\n",
    "        n_colors=100,\n",
    "        name_prefix='registered view',\n",
    "        contrast_limits=[0, 10],\n",
    "        positional_cmaps=True,\n",
    "        )\n",
    "    \n",
    "    rlayers = viewer_utils.add_image_layer_tuples_to_viewer(viewer, lds, do_link_layers=False)"
   ]
  },
  {
   "cell_type": "markdown",
   "metadata": {},
   "source": [
    "## Set the obtained transformations on the images to be fused"
   ]
  },
  {
   "cell_type": "code",
   "execution_count": null,
   "metadata": {},
   "outputs": [],
   "source": [
    "fusion_transform_key = 'affine_registered'\n",
    "\n",
    "for iview, msim in enumerate(msims_reg):\n",
    "    p = msi_utils.get_transform_from_msim(msim, fusion_transform_key).sel(t=0)\n",
    "    si_utils.set_sim_affine(sims_fus[iview], p, fusion_transform_key)"
   ]
  },
  {
   "cell_type": "markdown",
   "metadata": {},
   "source": [
    "## Fuse views (linear blending)"
   ]
  },
  {
   "cell_type": "code",
   "execution_count": null,
   "metadata": {},
   "outputs": [],
   "source": [
    "from multiview_stitcher import fusion, weights, misc_utils\n",
    "\n",
    "import importlib\n",
    "importlib.reload(fusion)\n",
    "\n",
    "output_ome_zarr_path = \"multiview_fused.ome.zarr\"\n",
    "\n",
    "# define the fused output\n",
    "# 'fused' is a dask array\n",
    "fused = fusion.fuse(\n",
    "    sims=sims_fus[:],\n",
    "    transform_key=fusion_transform_key,\n",
    "    output_spacing={dim: 2 for dim in ['z', 'y', 'x']},\n",
    "    blending_widths={dim: 50 for dim in ['z', 'y', 'x']},\n",
    "    output_chunksize=256,\n",
    "    # uncomment the next two lines for content-based fusion\n",
    "    # weights_func=weights.content_based, # uncomment for content-based fusion\n",
    "    # weights_func_kwargs={\"sigma_1\": 5, \"sigma_2\": 11}, # uncomment for content-based fusion\n",
    "    output_zarr_url=output_ome_zarr_path,\n",
    "    zarr_options={\n",
    "        \"ome_zarr\": True,\n",
    "        \"overwrite\": True,\n",
    "    },\n",
    "    batch_options={\n",
    "        \"batch_func\": misc_utils.process_batch_using_ray,\n",
    "    },\n",
    ")\n",
    "\n",
    "print('Summary of the fused dask array:')\n",
    "fused"
   ]
  },
  {
   "cell_type": "markdown",
   "metadata": {},
   "source": [
    "### Visualize fusion in napari\n",
    "\n",
    "If data is too large to visualize in napari, you can use neuroglancer in the cell below instead."
   ]
  },
  {
   "cell_type": "code",
   "execution_count": null,
   "metadata": {},
   "outputs": [],
   "source": [
    "if VISUALIZE_USING_NAPARI:\n",
    "\n",
    "    viewer = napari.Viewer(ndisplay=3)\n",
    "\n",
    "    lds = viewer_utils.create_image_layer_tuples_from_msims(\n",
    "        msims_reg, transform_key=fusion_transform_key, n_colors=4,\n",
    "        name_prefix='registered view',\n",
    "        contrast_limits=[0, 200]\n",
    "        )\n",
    "\n",
    "    rlayers = viewer_utils.add_image_layer_tuples_to_viewer(\n",
    "        viewer, lds, do_link_layers=False)\n",
    "\n",
    "    lds = viewer_utils.create_image_layer_tuples_from_msim(\n",
    "        msi_utils.get_msim_from_sim(fused),\n",
    "        transform_key=fusion_transform_key,\n",
    "        name_prefix='fused',\n",
    "        contrast_limits=[0, 200])\n",
    "\n",
    "    viewer_utils.add_image_layer_tuples_to_viewer(viewer, lds)"
   ]
  },
  {
   "cell_type": "markdown",
   "metadata": {},
   "source": [
    "## Visualize using neuroglancer"
   ]
  },
  {
   "cell_type": "code",
   "execution_count": null,
   "metadata": {},
   "outputs": [],
   "source": [
    "# interrupt the notebook cell to stop the viewer\n",
    "\n",
    "from multiview_stitcher import vis_utils\n",
    "\n",
    "# just the fusion result\n",
    "vis_utils.view_neuroglancer(\n",
    "    # sims=sims_fus + [fused],\n",
    "    sims=[fused],\n",
    "    # ome_zarr_paths=[str(filename.with_suffix('.ome.zarr')) for filename in filenames] + [output_ome_zarr_path],\n",
    "    ome_zarr_paths=[output_ome_zarr_path],\n",
    "    channel_coord=0,\n",
    "    transform_key=fusion_transform_key,\n",
    ")\n",
    "\n",
    "# # or visualize the registered views and the fusion result\n",
    "# vis_utils.view_neuroglancer(\n",
    "#     sims=sims_fus + [fused],\n",
    "#     ome_zarr_paths=[str(filename.with_suffix('.ome.zarr')) for filename in filenames] + [output_ome_zarr_path],\n",
    "#     channel_coord=0,\n",
    "#     transform_key=\"affine_registered\",\n",
    "# )"
   ]
  }
 ],
 "metadata": {
  "kernelspec": {
   "display_name": "ms",
   "language": "python",
   "name": "python3"
  },
  "language_info": {
   "codemirror_mode": {
    "name": "ipython",
    "version": 3
   },
   "file_extension": ".py",
   "mimetype": "text/x-python",
   "name": "python",
   "nbconvert_exporter": "python",
   "pygments_lexer": "ipython3",
   "version": "3.11.13"
  }
 },
 "nbformat": 4,
 "nbformat_minor": 4
}
