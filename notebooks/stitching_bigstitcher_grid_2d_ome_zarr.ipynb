{
 "cells": [
  {
   "cell_type": "markdown",
   "metadata": {},
   "source": [
    "# Example 2D stitching workflow\n",
    "\n",
    "This notebook demonstrates a workflow for stitching (potentially large) 2D data available as tif stacks or OME-Zarr files.\n",
    "\n",
    "*The workflow is essentially the same as the one in stitching_bigstitcher_grid_3d_ngff.ipynb, but adapted to 2D data. The main difference is that specified metadata is adapted, e.g. `scale = {'z': 2, 'y': 0.5, 'x': 0.5}` becomes `scale = {'y': 0.5, 'x': 0.5}`. Also, as opposed to the 3D example the tiff files here contain several channels, exemplifying how input file handling can be done this case.*\n",
    "\n",
    "#### 1) Download the example dataset\n",
    "\n",
    "This notebook uses [this example dataset](https://drive.google.com/file/d/15xSQCBHcpEvJWd6YD5iKJzuc0IRpWB8a/view?usp=sharing) provided by [BigStitcher](https://github.com/JaneliaSciComp/BigStitcher-Spark?tab=readme-ov-file#examples) (6 tiles, 3 channels). The dataset is in 3D and for this example we'll project it to 2D.\n",
    "\n",
    "#### 2) Convert input tif files into [OME-Zarr files](https://www.nature.com/articles/s41592-021-01326-w)\n",
    "\n",
    "This is useful in two ways:\n",
    "\n",
    "1) Image data cannot (easily) be read from tif files in a lazy and chunked manner. However, this is necessary when working with large images that shouldn't be loaded all at once. OME-Zarr files can be read chunkwise and will allow the stitching workflow to keep a low memory footprint and optimize its parallelism.\n",
    "\n",
    "2) OME-Zarr standardises metadata. In particular, this includes (positional) scale and translation metadata for each input tile. In the context of a stitching workflow, this can help with\n",
    "    - setting initial tile positions\n",
    "    - storing registered tile positions next to the unfused input data\n",
    "\n",
    "This notebook makes use of user input to place the input tiles (regular tif stacks) on a regular grid to serve as a starting point for registration. This positional metadata is saved in the OME-Zarr files. Alternatively, OME-Zarr files that already contain positional metadata can be used as an input to the stitching workflow.\n",
    "\n",
    "#### 3) Perform channel alignment (optional)\n",
    "\n",
    "In case the input data exhibits shifts between the input channels, a tile can be selected that is used for performing a (translational) channel registration.\n",
    "\n",
    "#### 4) Tile registration\n",
    "\n",
    "The tiles are registered using one of the input channels. The obtained transform parameters can be read out.\n",
    "\n",
    "#### 5) Fuse the tiles into a single output image\n",
    "\n",
    "The registered tiles are combined (fused) into a single output image. Weighted averaging is used to smoothly blend the tiles at the tile boundaries by using pixel-wise weights that decrease in proximity to the tile boundaries.\n",
    "\n",
    "The fused image is saved in OME-Zarr format and can be streamed into a tif stack.\n",
    "\n",
    "### Visualization\n",
    "\n",
    "This notebook uses two tools for visualization:\n",
    "- neuroglancer (no installation required)\n",
    "- napari (requires installing `napari-stitcher` separately)"
   ]
  },
  {
   "cell_type": "code",
   "execution_count": 1,
   "metadata": {},
   "outputs": [],
   "source": [
    "import os\n",
    "import zipfile\n",
    "import xarray as xr\n",
    "from pathlib import Path\n",
    "\n",
    "import dask.diagnostics\n",
    "import ngff_zarr\n",
    "import numpy as np\n",
    "import dask.array as da\n",
    "import tifffile\n",
    "from multiview_stitcher import spatial_image_utils as si_utils\n",
    "from multiview_stitcher import (\n",
    "    fusion,\n",
    "    io,\n",
    "    msi_utils,\n",
    "    vis_utils,\n",
    "    ngff_utils,\n",
    "    param_utils,\n",
    "    registration,\n",
    ")\n",
    "from tqdm import tqdm"
   ]
  },
  {
   "cell_type": "markdown",
   "metadata": {},
   "source": [
    "## Download the example dataset\n",
    "\n",
    "We're using [this](https://drive.google.com/file/d/15xSQCBHcpEvJWd6YD5iKJzuc0IRpWB8a/view?usp=sharing) example dataset provided by [BigStitcher](https://github.com/JaneliaSciComp/BigStitcher-Spark?tab=readme-ov-file#examples): https://github.com/JaneliaSciComp/BigStitcher-Spark?tab=readme-ov-file#examples. It contains 6 tiles and 3 channels. The dataset is in 3D and for this example we'll project it to 2D.\n",
    "\n",
    "For downloading it from google drive, we'll use the `gdown` package."
   ]
  },
  {
   "cell_type": "code",
   "execution_count": 2,
   "metadata": {},
   "outputs": [
    {
     "name": "stdout",
     "output_type": "stream",
     "text": [
      "Requirement already satisfied: gdown in /Users/albertm/.pixi/envs/conda/envs/ms/lib/python3.11/site-packages (5.2.0)\n",
      "Requirement already satisfied: beautifulsoup4 in /Users/albertm/.pixi/envs/conda/envs/ms/lib/python3.11/site-packages (from gdown) (4.13.5)\n",
      "Requirement already satisfied: filelock in /Users/albertm/.pixi/envs/conda/envs/ms/lib/python3.11/site-packages (from gdown) (3.19.1)\n",
      "Requirement already satisfied: requests[socks] in /Users/albertm/.pixi/envs/conda/envs/ms/lib/python3.11/site-packages (from gdown) (2.32.5)\n",
      "Requirement already satisfied: tqdm in /Users/albertm/.pixi/envs/conda/envs/ms/lib/python3.11/site-packages (from gdown) (4.67.1)\n",
      "Requirement already satisfied: soupsieve>1.2 in /Users/albertm/.pixi/envs/conda/envs/ms/lib/python3.11/site-packages (from beautifulsoup4->gdown) (2.7)\n",
      "Requirement already satisfied: typing-extensions>=4.0.0 in /Users/albertm/.pixi/envs/conda/envs/ms/lib/python3.11/site-packages (from beautifulsoup4->gdown) (4.15.0)\n",
      "Requirement already satisfied: charset_normalizer<4,>=2 in /Users/albertm/.pixi/envs/conda/envs/ms/lib/python3.11/site-packages (from requests[socks]->gdown) (3.4.3)\n",
      "Requirement already satisfied: idna<4,>=2.5 in /Users/albertm/.pixi/envs/conda/envs/ms/lib/python3.11/site-packages (from requests[socks]->gdown) (3.10)\n",
      "Requirement already satisfied: urllib3<3,>=1.21.1 in /Users/albertm/.pixi/envs/conda/envs/ms/lib/python3.11/site-packages (from requests[socks]->gdown) (2.5.0)\n",
      "Requirement already satisfied: certifi>=2017.4.17 in /Users/albertm/.pixi/envs/conda/envs/ms/lib/python3.11/site-packages (from requests[socks]->gdown) (2025.8.3)\n",
      "Requirement already satisfied: PySocks!=1.5.7,>=1.5.6 in /Users/albertm/.pixi/envs/conda/envs/ms/lib/python3.11/site-packages (from requests[socks]->gdown) (1.7.1)\n",
      "File already downloaded\n"
     ]
    },
    {
     "name": "stderr",
     "output_type": "stream",
     "text": [
      "Projecting 3D images to 2D: 100%|██████████| 6/6 [00:00<00:00, 68.00it/s]"
     ]
    },
    {
     "name": "stdout",
     "output_type": "stream",
     "text": [
      "Files in the directory:\n",
      " MAX_73.tif\n",
      "MAX_76.tif\n",
      "MAX_77.tif\n",
      "MAX_75.tif\n",
      "MAX_74.tif\n",
      "MAX_78.tif\n"
     ]
    },
    {
     "name": "stderr",
     "output_type": "stream",
     "text": [
      "\n"
     ]
    }
   ],
   "source": [
    "# install gdown if not already installed\n",
    "!pip install gdown\n",
    "\n",
    "# download the data from google drive, which will be available as a zip file \"Stitching_TIFF.zip\"\n",
    "\n",
    "download_zip_path = Path(\"Stitching_TIFF.zip\")\n",
    "download_path = Path(download_zip_path.stem)\n",
    "\n",
    "if not os.path.exists(download_zip_path):\n",
    "    import os\n",
    "    os.system('gdown 15xSQCBHcpEvJWd6YD5iKJzuc0IRpWB8a') # this is the google drive id of the file\n",
    "else:\n",
    "    print(\"File already downloaded\")\n",
    "\n",
    "# unzip and project the 3D images to 2D\n",
    "\n",
    "import zipfile\n",
    "with zipfile.ZipFile(download_zip_path, 'r') as zip_ref:\n",
    "    zip_ref.extractall(download_path)\n",
    "\n",
    "# project 3D images to 2D for this example\n",
    "tif_files_3d = list(Path(download_path).glob('7*.tif'))\n",
    "tif_files_2d = [p.with_name(\"MAX_\" + p.name) for p in tif_files_3d]\n",
    "for i in tqdm(range(len(tif_files_3d)), desc=\"Projecting 3D images to 2D\"):\n",
    "    im = tifffile.imread(tif_files_3d[i])\n",
    "    im = np.max(im, axis=0)\n",
    "    tifffile.imwrite(tif_files_2d[i], im)\n",
    "del im\n",
    "\n",
    "print('Files in the directory:\\n', '\\n'.join([str(path.name) for path in tif_files_2d]))"
   ]
  },
  {
   "cell_type": "markdown",
   "metadata": {},
   "source": [
    "## Specify input files"
   ]
  },
  {
   "cell_type": "code",
   "execution_count": 3,
   "metadata": {},
   "outputs": [
    {
     "name": "stdout",
     "output_type": "stream",
     "text": [
      "Example filename:\n",
      " Stitching_TIFF/MAX_73.tif\n"
     ]
    }
   ],
   "source": [
    "# indicate the tiles and channels to process\n",
    "tiles = range(73, 79)\n",
    "\n",
    "def get_filename_from_tile_and_channel(tile):\n",
    "    \"\"\"\n",
    "    This convenience function returns the filename given the tile and channel.\n",
    "    \"\"\"\n",
    "    return download_path / f'MAX_{tile}.tif'\n",
    "\n",
    "print('Example filename:\\n', get_filename_from_tile_and_channel(tiles[0]))"
   ]
  },
  {
   "cell_type": "markdown",
   "metadata": {},
   "source": [
    "## Read input data and convert to OME-Zarr\n",
    "\n",
    "This includes (pre-)arranging the tiles on a grid.\n",
    "\n",
    "Note that here we assum \n",
    "This way of setting the initial tile positions is specific to the example data and can easily be adapted / replaced. What matters at the end are the values passed for `scale` and `translation` to `si_utils.get_sim_from_array` for each tile.\n",
    "\n",
    "You can use \"visualize tile positions/configuration\" further down to check the resulting tile arrangement.\n",
    "\n"
   ]
  },
  {
   "cell_type": "markdown",
   "metadata": {},
   "source": [
    "### Arranging the tiles on the grid\n",
    "\n",
    "Assuming that tiles are positioned on a regular grid, in the cell below we specify each tile's position on the grid.\n",
    "\n",
    "If tiles are not positioned on a regular grid, you can skip this step and provide the positional metadata in a cell further down."
   ]
  },
  {
   "cell_type": "code",
   "execution_count": 4,
   "metadata": {},
   "outputs": [
    {
     "name": "stdout",
     "output_type": "stream",
     "text": [
      "Tile grid indices:\n",
      "Tile 0: {'z': 0, 'y': 0, 'x': 0}\n",
      "Tile 1: {'z': 0, 'y': 0, 'x': 1}\n",
      "Tile 2: {'z': 0, 'y': 1, 'x': 0}\n",
      "Tile 3: {'z': 0, 'y': 1, 'x': 1}\n",
      "Tile 4: {'z': 0, 'y': 2, 'x': 0}\n",
      "Tile 5: {'z': 0, 'y': 2, 'x': 1}\n"
     ]
    }
   ],
   "source": [
    "# indicate how the tile index maps onto the grid position for each tile index\n",
    "# (as a function of the tile index)\n",
    "# examples:\n",
    "#  get_tile_grid_position_from_tile_index(0) -> {'z': 0, 'y': 0, 'x': 0}\n",
    "#  get_tile_grid_position_from_tile_index(1) -> {'z': 0, 'y': 0, 'x': 1}\n",
    "#  get_tile_grid_position_from_tile_index(2) -> {'z': 0, 'y': 1, 'x': 0}\n",
    "#  etc.\n",
    "def get_tile_grid_position_from_tile_index(tile_index):\n",
    "    num_xy_columns = 2\n",
    "    return {\n",
    "        'z': 0, # all tiles are on the same z position\n",
    "        'y': tile_index // num_xy_columns, # new y position every 2 tiles\n",
    "        'x': tile_index % num_xy_columns, # reset x position every 2 tiles\n",
    "    }\n",
    "\n",
    "print(\"Tile grid indices:\")\n",
    "print(\"\\n\".join([f\"Tile {itile}: \" + str(get_tile_grid_position_from_tile_index(itile))\n",
    "    for itile, tile in enumerate(tiles)]))"
   ]
  },
  {
   "cell_type": "markdown",
   "metadata": {},
   "source": [
    "### Specifying image metadata"
   ]
  },
  {
   "cell_type": "code",
   "execution_count": 5,
   "metadata": {},
   "outputs": [
    {
     "name": "stdout",
     "output_type": "stream",
     "text": [
      "Tile shape:  {'y': 512, 'x': 512}\n"
     ]
    }
   ],
   "source": [
    "# indicate input pixel spacing\n",
    "# scale = {'z': 5, 'y': 1, 'x': 1}\n",
    "scale = {'y': .1, 'x': .1}\n",
    "\n",
    "# indicate approximate overlap between tiles relative to the image shape\n",
    "overlap = {\n",
    "    'y': 0.1, # 10% overlap in between rows\n",
    "    'x': 0.15 # 15% overlap in between columns\n",
    "    }\n",
    "\n",
    "# get image data shape from the first tile (without channel dim, i.e. in (z)yx)\n",
    "# (this line can be replaced by e.g.: `tile_shape = {'z': 100, 'y': 1000, 'x': 1000}`)\n",
    "tile_shape = {\n",
    "    dim: s for dim, s in zip(\n",
    "        ['y', 'x'],\n",
    "        tifffile.imread(get_filename_from_tile_and_channel(tiles[0])).shape[1:]\n",
    "    )\n",
    "}\n",
    "print(\"Tile shape: \", tile_shape)\n"
   ]
  },
  {
   "cell_type": "markdown",
   "metadata": {},
   "source": [
    "### Calculating the tile positions in physical units"
   ]
  },
  {
   "cell_type": "code",
   "execution_count": 6,
   "metadata": {},
   "outputs": [
    {
     "name": "stdout",
     "output_type": "stream",
     "text": [
      "Tile positions:\n",
      "Tile 0: {'y': 0.0, 'x': 0.0}\n",
      "Tile 1: {'y': 0.0, 'x': 43.52}\n",
      "Tile 2: {'y': 46.080000000000005, 'x': 0.0}\n",
      "Tile 3: {'y': 46.080000000000005, 'x': 43.52}\n",
      "Tile 4: {'y': 92.16000000000001, 'x': 0.0}\n",
      "Tile 5: {'y': 92.16000000000001, 'x': 43.52}\n"
     ]
    },
    {
     "data": {
      "image/png": "[encoded data removed]",
      "text/plain": [
       "<Figure size 640x480 with 1 Axes>"
      ]
     },
     "metadata": {},
     "output_type": "display_data"
    },
    {
     "data": {
      "text/plain": [
       "(<Figure size 640x480 with 1 Axes>, <Axes3D: ylabel='x [μm]', zlabel='y [μm]'>)"
      ]
     },
     "execution_count": 6,
     "metadata": {},
     "output_type": "execute_result"
    }
   ],
   "source": [
    "translations = []\n",
    "for itile, tile in enumerate(tiles):\n",
    "    tile_grid_position = get_tile_grid_position_from_tile_index(itile)\n",
    "    translations.append(\n",
    "        {\n",
    "            dim: tile_grid_position[dim] * (1 - (overlap[dim] if dim in overlap else 1)) * tile_shape[dim] * scale[dim]\n",
    "            for dim in scale\n",
    "        }\n",
    "    )\n",
    "\n",
    "print(\"Tile positions:\")\n",
    "print(\"\\n\".join([f\"Tile {itile}: \" + str(t) for itile, t in enumerate(translations)]))\n",
    "\n",
    "# visualize the tile positions\n",
    "# uncomment the following line to have an interactive 3D visualization (requires `ipympl` to be installed)\n",
    "# %matplotlib ipympl\n",
    "vis_utils.plot_positions(\n",
    "    [msi_utils.get_msim_from_sim(si_utils.get_sim_from_array(\n",
    "        da.zeros([tile_shape[dim] for dim in scale]), dims=list(scale.keys()), scale=scale, translation=translations[i]))\n",
    "        for i in range(len(tiles))],\n",
    "    use_positional_colors=False,\n",
    "    transform_key=io.METADATA_TRANSFORM_KEY,\n",
    ")"
   ]
  },
  {
   "cell_type": "markdown",
   "metadata": {},
   "source": [
    "### Save as OME-Zarr"
   ]
  },
  {
   "cell_type": "code",
   "execution_count": 7,
   "metadata": {},
   "outputs": [
    {
     "name": "stderr",
     "output_type": "stream",
     "text": [
      "0it [00:00, ?it/s]/Users/albertm/.pixi/envs/conda/envs/ms/lib/python3.11/site-packages/zarr/api/asynchronous.py:1257: ZarrRuntimeWarning: The `write_empty_chunks` keyword argument is deprecated and will be removed in future versions. To control whether empty chunks are written to storage, either use the `config` keyword argument, as in `config={'write_empty_chunks': True}`,or change the global 'array.write_empty_chunks' configuration variable.\n",
      "  _warn_write_empty_chunks_kwarg()\n",
      "/Users/albertm/.pixi/envs/conda/envs/ms/lib/python3.11/site-packages/zarr/api/asynchronous.py:1036: ZarrRuntimeWarning: The `write_empty_chunks` keyword argument is deprecated and will be removed in future versions. To control whether empty chunks are written to storage, either use the `config` keyword argument, as in `config={'write_empty_chunks': True}`,or change the global 'array.write_empty_chunks' configuration variable.\n",
      "  _warn_write_empty_chunks_kwarg()\n",
      "1it [00:00,  9.60it/s]/Users/albertm/.pixi/envs/conda/envs/ms/lib/python3.11/site-packages/zarr/api/asynchronous.py:1257: ZarrRuntimeWarning: The `write_empty_chunks` keyword argument is deprecated and will be removed in future versions. To control whether empty chunks are written to storage, either use the `config` keyword argument, as in `config={'write_empty_chunks': True}`,or change the global 'array.write_empty_chunks' configuration variable.\n",
      "  _warn_write_empty_chunks_kwarg()\n",
      "/Users/albertm/.pixi/envs/conda/envs/ms/lib/python3.11/site-packages/zarr/api/asynchronous.py:1036: ZarrRuntimeWarning: The `write_empty_chunks` keyword argument is deprecated and will be removed in future versions. To control whether empty chunks are written to storage, either use the `config` keyword argument, as in `config={'write_empty_chunks': True}`,or change the global 'array.write_empty_chunks' configuration variable.\n",
      "  _warn_write_empty_chunks_kwarg()\n",
      "/Users/albertm/.pixi/envs/conda/envs/ms/lib/python3.11/site-packages/zarr/api/asynchronous.py:1257: ZarrRuntimeWarning: The `write_empty_chunks` keyword argument is deprecated and will be removed in future versions. To control whether empty chunks are written to storage, either use the `config` keyword argument, as in `config={'write_empty_chunks': True}`,or change the global 'array.write_empty_chunks' configuration variable.\n",
      "  _warn_write_empty_chunks_kwarg()\n",
      "/Users/albertm/.pixi/envs/conda/envs/ms/lib/python3.11/site-packages/zarr/api/asynchronous.py:1036: ZarrRuntimeWarning: The `write_empty_chunks` keyword argument is deprecated and will be removed in future versions. To control whether empty chunks are written to storage, either use the `config` keyword argument, as in `config={'write_empty_chunks': True}`,or change the global 'array.write_empty_chunks' configuration variable.\n",
      "  _warn_write_empty_chunks_kwarg()\n",
      "3it [00:00, 10.17it/s]/Users/albertm/.pixi/envs/conda/envs/ms/lib/python3.11/site-packages/zarr/api/asynchronous.py:1257: ZarrRuntimeWarning: The `write_empty_chunks` keyword argument is deprecated and will be removed in future versions. To control whether empty chunks are written to storage, either use the `config` keyword argument, as in `config={'write_empty_chunks': True}`,or change the global 'array.write_empty_chunks' configuration variable.\n",
      "  _warn_write_empty_chunks_kwarg()\n",
      "/Users/albertm/.pixi/envs/conda/envs/ms/lib/python3.11/site-packages/zarr/api/asynchronous.py:1036: ZarrRuntimeWarning: The `write_empty_chunks` keyword argument is deprecated and will be removed in future versions. To control whether empty chunks are written to storage, either use the `config` keyword argument, as in `config={'write_empty_chunks': True}`,or change the global 'array.write_empty_chunks' configuration variable.\n",
      "  _warn_write_empty_chunks_kwarg()\n",
      "/Users/albertm/.pixi/envs/conda/envs/ms/lib/python3.11/site-packages/zarr/api/asynchronous.py:1257: ZarrRuntimeWarning: The `write_empty_chunks` keyword argument is deprecated and will be removed in future versions. To control whether empty chunks are written to storage, either use the `config` keyword argument, as in `config={'write_empty_chunks': True}`,or change the global 'array.write_empty_chunks' configuration variable.\n",
      "  _warn_write_empty_chunks_kwarg()\n",
      "/Users/albertm/.pixi/envs/conda/envs/ms/lib/python3.11/site-packages/zarr/api/asynchronous.py:1036: ZarrRuntimeWarning: The `write_empty_chunks` keyword argument is deprecated and will be removed in future versions. To control whether empty chunks are written to storage, either use the `config` keyword argument, as in `config={'write_empty_chunks': True}`,or change the global 'array.write_empty_chunks' configuration variable.\n",
      "  _warn_write_empty_chunks_kwarg()\n",
      "5it [00:00, 10.49it/s]/Users/albertm/.pixi/envs/conda/envs/ms/lib/python3.11/site-packages/zarr/api/asynchronous.py:1257: ZarrRuntimeWarning: The `write_empty_chunks` keyword argument is deprecated and will be removed in future versions. To control whether empty chunks are written to storage, either use the `config` keyword argument, as in `config={'write_empty_chunks': True}`,or change the global 'array.write_empty_chunks' configuration variable.\n",
      "  _warn_write_empty_chunks_kwarg()\n",
      "/Users/albertm/.pixi/envs/conda/envs/ms/lib/python3.11/site-packages/zarr/api/asynchronous.py:1036: ZarrRuntimeWarning: The `write_empty_chunks` keyword argument is deprecated and will be removed in future versions. To control whether empty chunks are written to storage, either use the `config` keyword argument, as in `config={'write_empty_chunks': True}`,or change the global 'array.write_empty_chunks' configuration variable.\n",
      "  _warn_write_empty_chunks_kwarg()\n",
      "6it [00:00, 10.44it/s]\n"
     ]
    }
   ],
   "source": [
    "# Read input tiles and convert to OME-Zarr files\n",
    "overwrite = True\n",
    "\n",
    "msims = []\n",
    "zarr_paths = []\n",
    "for itile, tile in tqdm(enumerate(tiles[:])):\n",
    "\n",
    "    # where to save the zarr(s)\n",
    "    zarr_path = os.path.join(os.path.dirname(get_filename_from_tile_and_channel(tile)),\n",
    "                             f'tile_{tile:02d}.zarr')\n",
    "\n",
    "    # read tile image\n",
    "    if os.path.exists(zarr_path) and not overwrite:\n",
    "        im_data = da.from_zarr(os.path.join(zarr_path, '0'))[0] # drop t axis automatically added\n",
    "    else:\n",
    "        im_data = tifffile.imread(get_filename_from_tile_and_channel(tile))\n",
    "\n",
    "    sim = si_utils.get_sim_from_array(\n",
    "        im_data,\n",
    "        dims=[\"c\"] + list(scale.keys()),\n",
    "        scale=scale,\n",
    "        translation=translations[itile],\n",
    "        transform_key=io.METADATA_TRANSFORM_KEY,\n",
    "        )\n",
    "\n",
    "    # write to OME-Zarr\n",
    "    ngff_utils.write_sim_to_ome_zarr(sim, zarr_path, overwrite=overwrite)\n",
    "    # replace sim with the sim read from the written OME-Zarr\n",
    "    sim = ngff_utils.read_sim_from_ome_zarr(zarr_path)\n",
    "\n",
    "    # alternatively `write_sim_to_ome_zarr` returns a sim loaded from the written OME-Zarr\n",
    "    # sim = ngff_utils.write_sim_to_ome_zarr(sim, zarr_path, overwrite=overwrite)\n",
    "\n",
    "    msim = msi_utils.get_msim_from_sim(sim)\n",
    "    zarr_paths.append(zarr_path)\n",
    "\n",
    "    msims.append(msim)\n",
    "\n",
    "urls = zarr_paths"
   ]
  },
  {
   "cell_type": "markdown",
   "metadata": {},
   "source": [
    "### Visualize pre-registered views\n",
    "\n",
    "This is useful to make sure that the tiles are correctly arranged"
   ]
  },
  {
   "cell_type": "code",
   "execution_count": 8,
   "metadata": {},
   "outputs": [
    {
     "data": {
      "image/png": "[encoded data removed]",
      "text/plain": [
       "<Figure size 640x480 with 1 Axes>"
      ]
     },
     "metadata": {},
     "output_type": "display_data"
    }
   ],
   "source": [
    "# visualize tile positions/configuration\n",
    "\n",
    "# uncomment the following line for 3D interactivity with the plot (requires ipympl to be installed)\n",
    "# % matplotlib widget\n",
    "\n",
    "from multiview_stitcher import vis_utils\n",
    "\n",
    "fig, ax = vis_utils.plot_positions(\n",
    "    msims,\n",
    "    use_positional_colors=True, # set to False for faster execution in case of more than 20 tiles/views\n",
    "    transform_key='affine_metadata'\n",
    "    )"
   ]
  },
  {
   "cell_type": "markdown",
   "metadata": {},
   "source": [
    "### Visualize input tiles"
   ]
  },
  {
   "cell_type": "markdown",
   "metadata": {},
   "source": [
    "#### Using neuroglancer\n",
    "\n",
    "Neuroglancer is a web-based viewer and doesn't require additional installations.\n",
    "\n",
    "Key bindings: https://github.com/google/neuroglancer/blob/master/README.md#keyboard-and-mouse-bindings"
   ]
  },
  {
   "cell_type": "code",
   "execution_count": 9,
   "metadata": {},
   "outputs": [],
   "source": [
    "# # interrupt the notebook cell to stop the viewer\n",
    "# vis_utils.view_neuroglancer(\n",
    "#     sims=[msi_utils.get_sim_from_msim(msim) for msim in msims],\n",
    "#     ome_zarr_paths=zarr_paths,\n",
    "#     transform_key=io.METADATA_TRANSFORM_KEY,\n",
    "# )"
   ]
  },
  {
   "cell_type": "markdown",
   "metadata": {},
   "source": [
    "#### Using napari\n",
    "\n",
    "Requires installing `napari-stitcher` separately."
   ]
  },
  {
   "cell_type": "code",
   "execution_count": 10,
   "metadata": {},
   "outputs": [],
   "source": [
    "# # Using napari\n",
    "\n",
    "# ch_coord = 0 # None if all should be shown\n",
    "\n",
    "# viewer = napari.Viewer(ndisplay=msi_utils.get_ndim(msims[0]))\n",
    "# lds = viewer_utils.create_image_layer_tuples_from_msims(\n",
    "#     msims, ch_coord=ch_coord, transform_key='affine_metadata', n_colors=2, contrast_limits=[0, 500])\n",
    "# viewer_utils.add_image_layer_tuples_to_viewer(viewer, lds)\n",
    "# viewer.reset_view()"
   ]
  },
  {
   "cell_type": "markdown",
   "metadata": {},
   "source": [
    "### Align channels (optional)\n",
    "\n",
    "Perform channel alignment prior to view/tile registration to account for shifts between channels in the input data.\n",
    "The example data does not exhibit significant channel shifts, but this might be useful for other datasets.\n",
    "\n",
    "**Note that aligning channels is optional but this cell needs to be run for the subsequent notebook steps to work.**"
   ]
  },
  {
   "cell_type": "code",
   "execution_count": 11,
   "metadata": {},
   "outputs": [],
   "source": [
    "# Turn channel alignment on or off\n",
    "perform_channel_alignment = False\n",
    "\n",
    "# Channel alignment is performed using a single tile.\n",
    "# Choose here which tile (index) to use.\n",
    "channel_alignment_tile_index = 0\n",
    "\n",
    "curr_transform_key = 'affine_metadata'\n",
    "if perform_channel_alignment:\n",
    "    curr_transform_key = 'affine_metadata_ch_reg'\n",
    "\n",
    "    channels = msims[channel_alignment_tile_index]['scale0/image'].coords['c']\n",
    "\n",
    "    # select chosen tiles for registration\n",
    "    msims_ch_reg = [msi_utils.multiscale_sel_coords(msims[5], {'c': ch})\n",
    "                    for ch in channels]\n",
    "\n",
    "    with dask.diagnostics.ProgressBar():\n",
    "        params_c = registration.register(\n",
    "            msims_ch_reg,\n",
    "            registration_binning={'y': 4, 'x': 4},\n",
    "            reg_channel_index=0,\n",
    "            transform_key='affine_metadata',\n",
    "            pre_registration_pruning_method=None,\n",
    "        )\n",
    "\n",
    "    # assign channel coordinates to obtained parameters\n",
    "    params_c = xr.concat(params_c, dim='c').assign_coords({'c': channels})\n",
    "\n",
    "    # set obtained parameters for all tiles\n",
    "    for msim in msims:\n",
    "        msi_utils.set_affine_transform(\n",
    "            msim, params_c, transform_key=curr_transform_key, base_transform_key='affine_metadata')\n"
   ]
  },
  {
   "cell_type": "markdown",
   "metadata": {},
   "source": [
    "### Register views\n",
    "\n",
    "To optimize registration results, you can explore different values for `registration_binning` and `reg_channel_index`."
   ]
  },
  {
   "cell_type": "code",
   "execution_count": 12,
   "metadata": {},
   "outputs": [
    {
     "name": "stdout",
     "output_type": "stream",
     "text": [
      "[########################################] | 100% Completed | 1.05 sms\n",
      "[########################################] | 100% Completed | 318.79 ms\n"
     ]
    }
   ],
   "source": [
    "with dask.diagnostics.ProgressBar():\n",
    "\n",
    "    params = registration.register(\n",
    "        msims,\n",
    "        registration_binning={'y': 1, 'x': 1},\n",
    "        reg_channel_index=0,\n",
    "        transform_key=curr_transform_key,\n",
    "        new_transform_key='affine_registered',\n",
    "        pre_registration_pruning_method=\"keep_axis_aligned\", # works well for tiles on a grid\n",
    "    )"
   ]
  },
  {
   "cell_type": "markdown",
   "metadata": {},
   "source": [
    "#### Print the obtained parameters.\n",
    "\n",
    "How to interpret them?\n",
    "   - parameters are expressed as homogeneous matrices of dimensions (n+1, n+1)\n",
    "   - the first n rows and columns correspond to the linear part of the transformation\n",
    "   - the first three elements of the last column correspond to the translation in (z, y, x)\n",
    "   - the parameters map the coordinates of the input files (considering their scale and translation) into a world coordinate system in which the tiles are registered\n"
   ]
  },
  {
   "cell_type": "code",
   "execution_count": 13,
   "metadata": {},
   "outputs": [
    {
     "name": "stdout",
     "output_type": "stream",
     "text": [
      "tile index 0\n",
      " [[ 1.          0.          0.65399967]\n",
      " [ 0.          1.         -0.15333873]\n",
      " [ 0.          0.          1.        ]]\n",
      "tile index 1\n",
      " [[1.         0.         0.67799961]\n",
      " [0.         1.         2.58332701]\n",
      " [0.         0.         1.        ]]\n",
      "tile index 2\n",
      " [[1. 0. 0.]\n",
      " [0. 1. 0.]\n",
      " [0. 0. 1.]]\n",
      "tile index 3\n",
      " [[1.         0.         0.11199957]\n",
      " [0.         1.         2.64999279]\n",
      " [0.         0.         1.        ]]\n",
      "tile index 4\n",
      " [[ 1.          0.         -0.24600033]\n",
      " [ 0.          1.         -0.0166721 ]\n",
      " [ 0.          0.          1.        ]]\n",
      "tile index 5\n",
      " [[ 1.          0.         -0.36200038]\n",
      " [ 0.          1.          2.65666038]\n",
      " [ 0.          0.          1.        ]]\n"
     ]
    }
   ],
   "source": [
    "for imsim, msim in enumerate(msims):\n",
    "    affine = np.array(msi_utils.get_transform_from_msim(msim, transform_key='affine_registered')[0])\n",
    "    print(f'tile index {imsim}\\n', affine)"
   ]
  },
  {
   "cell_type": "markdown",
   "metadata": {},
   "source": [
    "### Visualize registration"
   ]
  },
  {
   "cell_type": "code",
   "execution_count": 14,
   "metadata": {},
   "outputs": [],
   "source": [
    "# # Using neuroglancer\n",
    "\n",
    "# # interrupt the notebook cell to stop the viewer\n",
    "# vis_utils.view_neuroglancer(\n",
    "#     sims=[msi_utils.get_sim_from_msim(msim) for msim in msims],\n",
    "#     ome_zarr_paths=zarr_paths,\n",
    "#     transform_key='affine_registered',\n",
    "# )"
   ]
  },
  {
   "cell_type": "code",
   "execution_count": 15,
   "metadata": {},
   "outputs": [],
   "source": [
    "# # Using napari\n",
    "\n",
    "# viewer = napari.Viewer(ndisplay=msi_utils.get_ndim(msims[0]))\n",
    "\n",
    "# ch_coord = 0 # None if all should be shown\n",
    "\n",
    "# lds = viewer_utils.create_image_layer_tuples_from_msims(\n",
    "#     msims, ch_coord=ch_coord, transform_key='affine_registered', n_colors=2,\n",
    "#     name_prefix='registered view',\n",
    "#     contrast_limits=[0, 500],\n",
    "#     )\n",
    "# rlayers = viewer_utils.add_image_layer_tuples_to_viewer(viewer, lds, do_link_layers=True)\n",
    "\n",
    "# viewer.reset_view()"
   ]
  },
  {
   "cell_type": "markdown",
   "metadata": {},
   "source": [
    "### Fuse views (linear blending)\n",
    "#### Save output into OME-Zarr"
   ]
  },
  {
   "cell_type": "code",
   "execution_count": null,
   "metadata": {},
   "outputs": [
    {
     "name": "stdout",
     "output_type": "stream",
     "text": [
      "Fusing views and saving output to Stitching_TIFF/fused.zarr...\n",
      "[########################################] | 100% Completed | 1.08 sms\n",
      "[########################################] | 100% Completed | 106.77 ms\n",
      "[########################################] | 100% Completed | 104.79 ms\n",
      "[########################################] | 100% Completed | 104.58 ms\n",
      "[########################################] | 100% Completed | 105.15 ms\n",
      "[########################################] | 100% Completed | 105.60 ms\n",
      "[########################################] | 100% Completed | 101.74 ms\n",
      "[########################################] | 100% Completed | 105.67 ms\n",
      "[########################################] | 100% Completed | 105.74 ms\n",
      "[########################################] | 100% Completed | 105.92 ms\n"
     ]
    }
   ],
   "source": [
    "output_dir = download_path\n",
    "output_filename = os.path.join(output_dir, 'fused.zarr')\n",
    "\n",
    "fused = fusion.fuse(\n",
    "    [msi_utils.get_sim_from_msim(msim) for msim in msims],\n",
    "    transform_key='affine_registered',\n",
    "    output_chunksize=256,\n",
    "    )\n",
    "\n",
    "print(f'Fusing views and saving output to {output_filename}...')\n",
    "fused = ngff_utils.write_sim_to_ome_zarr(\n",
    "    fused, output_filename, overwrite=True\n",
    ")"
   ]
  },
  {
   "cell_type": "markdown",
   "metadata": {},
   "source": [
    "### Visualize fusion in napari\n",
    "\n",
    "The output file can also be opened in napari using the napari-ome-zarr plugin."
   ]
  },
  {
   "cell_type": "code",
   "execution_count": 17,
   "metadata": {},
   "outputs": [],
   "source": [
    "# viewer = napari.Viewer(ndisplay=msi_utils.get_ndim(msims[0]))\n",
    "\n",
    "# ch_coord = None\n",
    "\n",
    "# lds = viewer_utils.create_image_layer_tuples_from_msims(\n",
    "#     [mfused],\n",
    "#     ch_coord=ch_coord,\n",
    "#     transform_key='affine_registered',\n",
    "#     name_prefix='fused',\n",
    "#     contrast_limits=[0, 500])\n",
    "\n",
    "# viewer_utils.add_image_layer_tuples_to_viewer(viewer, lds)"
   ]
  },
  {
   "cell_type": "markdown",
   "metadata": {},
   "source": [
    "### Visualize fusion in neuroglancer\n",
    "\n",
    "No installation required."
   ]
  },
  {
   "cell_type": "code",
   "execution_count": 18,
   "metadata": {},
   "outputs": [],
   "source": [
    "# # interrupt the notebook cell to stop the viewer\n",
    "# vis_utils.view_neuroglancer(\n",
    "#     sims=[fused],\n",
    "#     ome_zarr_paths=[output_filename],\n",
    "#     channel_coord=0,\n",
    "#     transform_key=\"affine_registered\",\n",
    "# )"
   ]
  },
  {
   "cell_type": "markdown",
   "metadata": {},
   "source": [
    "### Save fused image into tif (optional)\n",
    "\n",
    "The next cell shows how to save the fused image into a tif file.\n",
    "\n",
    "However, for large images this will fail and it is recommended to work with OME-Zarr."
   ]
  },
  {
   "cell_type": "code",
   "execution_count": 19,
   "metadata": {},
   "outputs": [
    {
     "name": "stdout",
     "output_type": "stream",
     "text": [
      "Streaming into Stitching_TIFF/fused.tif...\n",
      "[########################################] | 100% Completed | 105.20 ms\n"
     ]
    },
    {
     "name": "stderr",
     "output_type": "stream",
     "text": [
      "/var/folders/pk/0yb479fx6kxbcw2k8h8tbg7w0000gq/T/ipykernel_41697/1638505360.py:5: UserWarning: Streaming into tif is only supported for zarr < 3(https://github.com/cgohlke/tifffile/issues/272)\n",
      "  io.save_sim_as_tif(\n"
     ]
    }
   ],
   "source": [
    "output_filename = os.path.join(output_dir, 'fused.tif')\n",
    "\n",
    "print(f'Streaming into {output_filename}...')\n",
    "with dask.diagnostics.ProgressBar():\n",
    "    io.save_sim_as_tif(\n",
    "        output_filename,\n",
    "        fused)"
   ]
  }
 ],
 "metadata": {
  "kernelspec": {
   "display_name": "ms",
   "language": "python",
   "name": "python3"
  },
  "language_info": {
   "codemirror_mode": {
    "name": "ipython",
    "version": 3
   },
   "file_extension": ".py",
   "mimetype": "text/x-python",
   "name": "python",
   "nbconvert_exporter": "python",
   "pygments_lexer": "ipython3",
   "version": "3.11.13"
  }
 },
 "nbformat": 4,
 "nbformat_minor": 4
}
